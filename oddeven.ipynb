{
  "nbformat": 4,
  "nbformat_minor": 0,
  "metadata": {
    "colab": {
      "name": "oddeven.ipynb",
      "provenance": [],
      "collapsed_sections": [],
      "authorship_tag": "ABX9TyMfsqHLreu7bQodk6cCwqCE",
      "include_colab_link": true
    },
    "kernelspec": {
      "name": "python3",
      "display_name": "Python 3"
    }
  },
  "cells": [
    {
      "cell_type": "markdown",
      "metadata": {
        "id": "view-in-github",
        "colab_type": "text"
      },
      "source": [
        "<a href=\"https://colab.research.google.com/github/Ramesa1995/unit_2_Python/blob/main/oddeven.ipynb\" target=\"_parent\"><img src=\"https://colab.research.google.com/assets/colab-badge.svg\" alt=\"Open In Colab\"/></a>"
      ]
    },
    {
      "cell_type": "code",
      "metadata": {
        "colab": {
          "base_uri": "https://localhost:8080/"
        },
        "id": "znjE6tw8FiUn",
        "outputId": "f5c1d9a4-33e6-4b74-ca32-5b9db65d380a"
      },
      "source": [
        "#input the number\n",
        "number = int(input(\"Please enter a number : \"))\n",
        "if (number% 2 == 0):                       # checking if the number even.\n",
        "   if (number % 4 ==0):                    #checking if the number is multiplier of 4.\n",
        "     print(\"The number is multiple of 4\")\n",
        "   else:                                   #if the number is not a multiplier of 4, it will print the following comment.\n",
        "     print(\"The number is even\" )\n",
        "else:                                      # if the number is not even, it will print the following comment.\n",
        "  print(\"the number is odd\")"
      ],
      "execution_count": 42,
      "outputs": [
        {
          "output_type": "stream",
          "text": [
            "Please enter a number : 7\n",
            "the number is odd\n"
          ],
          "name": "stdout"
        }
      ]
    }
  ]
}